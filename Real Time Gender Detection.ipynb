{
 "cells": [
  {
   "cell_type": "code",
   "execution_count": 27,
   "id": "d4f32216",
   "metadata": {},
   "outputs": [],
   "source": [
    "from tensorflow.keras.preprocessing.image import ImageDataGenerator\n",
    "from tensorflow.keras.optimizers import Adam\n",
    "from tensorflow.keras.preprocessing.image import img_to_array\n",
    "from tensorflow.keras.utils import to_categorical, plot_model\n",
    "from tensorflow.keras.models import Sequential\n",
    "from tensorflow.keras.layers import BatchNormalization, Conv2D, MaxPooling2D, Activation, Flatten, Dropout, Dense\n",
    "from tensorflow.keras import backend as K\n",
    "from sklearn.model_selection import train_test_split\n",
    "import matplotlib.pyplot as plt\n",
    "import numpy as np\n",
    "import random\n",
    "import cv2\n",
    "import os\n",
    "import glob\n",
    "import tensorflow as tf"
   ]
  },
  {
   "cell_type": "code",
   "execution_count": 28,
   "id": "ce4e8f3a",
   "metadata": {},
   "outputs": [],
   "source": [
    "from deepface import DeepFace"
   ]
  },
  {
   "cell_type": "code",
   "execution_count": 29,
   "id": "5f2490c3",
   "metadata": {},
   "outputs": [],
   "source": [
    "# initial parameters\n",
    "epochs = 100\n",
    "lr = 1e-3\n",
    "batch_size = 128\n",
    "img_dims = (80,80,3)\n",
    "\n",
    "data = []\n",
    "labels = []"
   ]
  },
  {
   "cell_type": "code",
   "execution_count": 30,
   "id": "8371e114",
   "metadata": {},
   "outputs": [],
   "source": [
    "# load image files from the dataset\n",
    "image_files = [f for f in glob.glob(r'C:\\Users\\amans\\OneDrive\\Desktop\\.ipynb_checkpoints\\gender_dataset_face' + \"/**/*\", recursive=True) if not os.path.isdir(f)]\n",
    "random.shuffle(image_files)"
   ]
  },
  {
   "cell_type": "code",
   "execution_count": 31,
   "id": "2754965b",
   "metadata": {},
   "outputs": [],
   "source": [
    "# converting images to arrays and labelling the categories\n",
    "for img in image_files:\n",
    "\n",
    "    image = cv2.imread(img)\n",
    "    \n",
    "    image = cv2.resize(image, (img_dims[0],img_dims[1]))\n",
    "    image = img_to_array(image)\n",
    "    data.append(image)\n",
    "\n",
    "    label = img.split(os.path.sep)[-2] \n",
    "    if label == \"woman\":\n",
    "        label = 1\n",
    "    else:\n",
    "        label = 0\n",
    "        \n",
    "    labels.append([label]) # [[1], [0], [0], ...]\n"
   ]
  },
  {
   "cell_type": "code",
   "execution_count": 32,
   "id": "2d08050f",
   "metadata": {},
   "outputs": [],
   "source": [
    "# pre-processing\n",
    "data = np.array(data, dtype=\"float\") / 255.0\n",
    "labels = np.array(labels)"
   ]
  },
  {
   "cell_type": "code",
   "execution_count": 33,
   "id": "8d14c8b8",
   "metadata": {},
   "outputs": [],
   "source": [
    "# split dataset for training and validation\n",
    "(trainX, testX, trainY, testY) = train_test_split(data, labels, test_size=0.3,\n",
    "                                                  random_state=42)\n"
   ]
  },
  {
   "cell_type": "code",
   "execution_count": 34,
   "id": "7ff59dcb",
   "metadata": {},
   "outputs": [],
   "source": [
    "trainY = to_categorical(trainY, num_classes=2) # [[1, 0], [0, 1], [0, 1], ...]\n",
    "testY = to_categorical(testY, num_classes=2)"
   ]
  },
  {
   "cell_type": "code",
   "execution_count": 35,
   "id": "73c07c0f",
   "metadata": {},
   "outputs": [],
   "source": [
    "# augmenting datset \n",
    "aug = ImageDataGenerator(rotation_range=25, width_shift_range=0.1,\n",
    "                         height_shift_range=0.1, shear_range=0.2, zoom_range=0.2,\n",
    "                         horizontal_flip=True, fill_mode=\"nearest\")"
   ]
  },
  {
   "cell_type": "code",
   "execution_count": 36,
   "id": "49c1da93",
   "metadata": {},
   "outputs": [],
   "source": [
    "# define model\n",
    "def build(width, height, depth, classes):\n",
    "    model = Sequential()\n",
    "    inputShape = (height, width, depth)\n",
    "    chanDim = -1\n",
    "\n",
    "    if K.image_data_format() == \"channels_first\": #Returns a string, either 'channels_first' or 'channels_last'\n",
    "        inputShape = (depth, height, width)\n",
    "        chanDim = 1\n",
    "    \n",
    "    # The axis that should be normalized, after a Conv2D layer with data_format=\"channels_first\", \n",
    "    # set axis=1 in BatchNormalization.\n",
    "\n",
    "    model.add(Conv2D(32, (3,3), padding=\"same\", input_shape=inputShape))\n",
    "    model.add(Activation(\"relu\"))\n",
    "    model.add(BatchNormalization(axis=chanDim))\n",
    "    model.add(MaxPooling2D(pool_size=(3,3)))\n",
    "    model.add(Dropout(0.25))\n",
    "\n",
    "    model.add(Conv2D(64, (3,3), padding=\"same\"))\n",
    "    model.add(Activation(\"relu\"))\n",
    "    model.add(BatchNormalization(axis=chanDim))\n",
    "\n",
    "    model.add(Conv2D(64, (3,3), padding=\"same\"))\n",
    "    model.add(Activation(\"relu\"))\n",
    "    model.add(BatchNormalization(axis=chanDim))\n",
    "    model.add(MaxPooling2D(pool_size=(2,2)))\n",
    "    model.add(Dropout(0.25))\n",
    "\n",
    "    model.add(Conv2D(128, (3,3), padding=\"same\"))\n",
    "    model.add(Activation(\"relu\"))\n",
    "    model.add(BatchNormalization(axis=chanDim))\n",
    "\n",
    "    model.add(Conv2D(128, (3,3), padding=\"same\"))\n",
    "    model.add(Activation(\"relu\"))\n",
    "    model.add(BatchNormalization(axis=chanDim))\n",
    "    model.add(MaxPooling2D(pool_size=(2,2)))\n",
    "    model.add(Dropout(0.25))\n",
    "\n",
    "    model.add(Flatten())\n",
    "    model.add(Dense(1024))\n",
    "    model.add(Activation(\"relu\"))\n",
    "    model.add(BatchNormalization())\n",
    "    model.add(Dropout(0.5))\n",
    "\n",
    "    model.add(Dense(classes))\n",
    "    model.add(Activation(\"sigmoid\"))\n",
    "\n",
    "    return model"
   ]
  },
  {
   "cell_type": "code",
   "execution_count": 37,
   "id": "bf3aa8f9",
   "metadata": {},
   "outputs": [],
   "source": [
    "# build model\n",
    "model = build(width=img_dims[0], height=img_dims[1], depth=img_dims[2],\n",
    "                            classes=2)"
   ]
  },
  {
   "cell_type": "code",
   "execution_count": 38,
   "id": "51d6c79d",
   "metadata": {},
   "outputs": [],
   "source": [
    "# compile the model\n",
    "opt = tf.keras.optimizers.legacy.Adam(lr=lr, decay=lr/epochs)\n",
    "model.compile(loss=\"binary_crossentropy\", optimizer=opt, metrics=[\"accuracy\"])"
   ]
  },
  {
   "cell_type": "code",
   "execution_count": 39,
   "id": "62c73651",
   "metadata": {},
   "outputs": [
    {
     "name": "stdout",
     "output_type": "stream",
     "text": [
      "Epoch 1/100\n",
      "12/12 [==============================] - 12s 867ms/step - loss: 0.8503 - accuracy: 0.6750 - val_loss: 0.6885 - val_accuracy: 0.4892\n",
      "Epoch 2/100\n",
      "12/12 [==============================] - 10s 841ms/step - loss: 0.6233 - accuracy: 0.7826 - val_loss: 0.7164 - val_accuracy: 0.4892\n",
      "Epoch 3/100\n",
      "12/12 [==============================] - 10s 833ms/step - loss: 0.4888 - accuracy: 0.8176 - val_loss: 0.8607 - val_accuracy: 0.4892\n",
      "Epoch 4/100\n",
      "12/12 [==============================] - 10s 853ms/step - loss: 0.4144 - accuracy: 0.8338 - val_loss: 0.9269 - val_accuracy: 0.4892\n",
      "Epoch 5/100\n",
      "12/12 [==============================] - 11s 911ms/step - loss: 0.3930 - accuracy: 0.8567 - val_loss: 0.9168 - val_accuracy: 0.4892\n",
      "Epoch 6/100\n",
      "12/12 [==============================] - 10s 845ms/step - loss: 0.3631 - accuracy: 0.8627 - val_loss: 1.1238 - val_accuracy: 0.4892\n",
      "Epoch 7/100\n",
      "12/12 [==============================] - 10s 834ms/step - loss: 0.3337 - accuracy: 0.8775 - val_loss: 1.4469 - val_accuracy: 0.4892\n",
      "Epoch 8/100\n",
      "12/12 [==============================] - 10s 842ms/step - loss: 0.3350 - accuracy: 0.8809 - val_loss: 1.8425 - val_accuracy: 0.4892\n",
      "Epoch 9/100\n",
      "12/12 [==============================] - 10s 845ms/step - loss: 0.3013 - accuracy: 0.8869 - val_loss: 1.6743 - val_accuracy: 0.4892\n",
      "Epoch 10/100\n",
      "12/12 [==============================] - 10s 845ms/step - loss: 0.2848 - accuracy: 0.8809 - val_loss: 2.3409 - val_accuracy: 0.4892\n",
      "Epoch 11/100\n",
      "12/12 [==============================] - 10s 831ms/step - loss: 0.2517 - accuracy: 0.8997 - val_loss: 2.0166 - val_accuracy: 0.4892\n",
      "Epoch 12/100\n",
      "12/12 [==============================] - 11s 877ms/step - loss: 0.2640 - accuracy: 0.9031 - val_loss: 2.1933 - val_accuracy: 0.4892\n",
      "Epoch 13/100\n",
      "12/12 [==============================] - 10s 855ms/step - loss: 0.2498 - accuracy: 0.9011 - val_loss: 1.3222 - val_accuracy: 0.4892\n",
      "Epoch 14/100\n",
      "12/12 [==============================] - 10s 844ms/step - loss: 0.2397 - accuracy: 0.9095 - val_loss: 2.4004 - val_accuracy: 0.4892\n",
      "Epoch 15/100\n",
      "12/12 [==============================] - 10s 832ms/step - loss: 0.2150 - accuracy: 0.9152 - val_loss: 2.1978 - val_accuracy: 0.4892\n",
      "Epoch 16/100\n",
      "12/12 [==============================] - 11s 864ms/step - loss: 0.2344 - accuracy: 0.9044 - val_loss: 1.5751 - val_accuracy: 0.4892\n",
      "Epoch 17/100\n",
      "12/12 [==============================] - 10s 854ms/step - loss: 0.2298 - accuracy: 0.9132 - val_loss: 2.2919 - val_accuracy: 0.4892\n",
      "Epoch 18/100\n",
      "12/12 [==============================] - 10s 846ms/step - loss: 0.1988 - accuracy: 0.9238 - val_loss: 0.5697 - val_accuracy: 0.6710\n",
      "Epoch 19/100\n",
      "12/12 [==============================] - 10s 869ms/step - loss: 0.1895 - accuracy: 0.9266 - val_loss: 1.4629 - val_accuracy: 0.4892\n",
      "Epoch 20/100\n",
      "12/12 [==============================] - 13s 1s/step - loss: 0.1909 - accuracy: 0.9219 - val_loss: 1.3878 - val_accuracy: 0.4921\n",
      "Epoch 21/100\n",
      "12/12 [==============================] - 12s 1s/step - loss: 0.1720 - accuracy: 0.9381 - val_loss: 1.0921 - val_accuracy: 0.5022\n",
      "Epoch 22/100\n",
      "12/12 [==============================] - 11s 899ms/step - loss: 0.1804 - accuracy: 0.9320 - val_loss: 2.6129 - val_accuracy: 0.4892\n",
      "Epoch 23/100\n",
      "12/12 [==============================] - 12s 1s/step - loss: 0.1480 - accuracy: 0.9401 - val_loss: 3.3103 - val_accuracy: 0.4892\n",
      "Epoch 24/100\n",
      "12/12 [==============================] - 12s 974ms/step - loss: 0.1474 - accuracy: 0.9468 - val_loss: 1.6655 - val_accuracy: 0.4892\n",
      "Epoch 25/100\n",
      "12/12 [==============================] - 12s 979ms/step - loss: 0.1590 - accuracy: 0.9381 - val_loss: 1.7900 - val_accuracy: 0.4949\n",
      "Epoch 26/100\n",
      "12/12 [==============================] - 11s 892ms/step - loss: 0.1422 - accuracy: 0.9381 - val_loss: 1.8577 - val_accuracy: 0.4921\n",
      "Epoch 27/100\n",
      "12/12 [==============================] - 12s 962ms/step - loss: 0.1532 - accuracy: 0.9428 - val_loss: 1.5821 - val_accuracy: 0.5209\n",
      "Epoch 28/100\n",
      "12/12 [==============================] - 11s 929ms/step - loss: 0.1543 - accuracy: 0.9421 - val_loss: 3.5758 - val_accuracy: 0.4892\n",
      "Epoch 29/100\n",
      "12/12 [==============================] - 10s 861ms/step - loss: 0.1198 - accuracy: 0.9544 - val_loss: 2.8595 - val_accuracy: 0.4921\n",
      "Epoch 30/100\n",
      "12/12 [==============================] - 10s 831ms/step - loss: 0.1434 - accuracy: 0.9448 - val_loss: 1.0517 - val_accuracy: 0.6595\n",
      "Epoch 31/100\n",
      "12/12 [==============================] - 10s 841ms/step - loss: 0.0962 - accuracy: 0.9596 - val_loss: 4.0025 - val_accuracy: 0.4921\n",
      "Epoch 32/100\n",
      "12/12 [==============================] - 10s 859ms/step - loss: 0.1013 - accuracy: 0.9610 - val_loss: 2.7347 - val_accuracy: 0.4978\n",
      "Epoch 33/100\n",
      "12/12 [==============================] - 10s 827ms/step - loss: 0.1279 - accuracy: 0.9489 - val_loss: 3.2751 - val_accuracy: 0.5022\n",
      "Epoch 34/100\n",
      "12/12 [==============================] - 10s 826ms/step - loss: 0.1129 - accuracy: 0.9556 - val_loss: 0.3045 - val_accuracy: 0.9149\n",
      "Epoch 35/100\n",
      "12/12 [==============================] - 10s 848ms/step - loss: 0.1051 - accuracy: 0.9576 - val_loss: 1.1283 - val_accuracy: 0.7229\n",
      "Epoch 36/100\n",
      "12/12 [==============================] - 10s 849ms/step - loss: 0.1058 - accuracy: 0.9630 - val_loss: 0.6458 - val_accuracy: 0.7879\n",
      "Epoch 37/100\n",
      "12/12 [==============================] - 11s 888ms/step - loss: 0.0944 - accuracy: 0.9657 - val_loss: 0.4939 - val_accuracy: 0.8326\n",
      "Epoch 38/100\n",
      "12/12 [==============================] - 11s 971ms/step - loss: 0.0845 - accuracy: 0.9664 - val_loss: 1.5487 - val_accuracy: 0.6176\n",
      "Epoch 39/100\n",
      "12/12 [==============================] - 11s 914ms/step - loss: 0.0921 - accuracy: 0.9643 - val_loss: 0.2621 - val_accuracy: 0.8975\n",
      "Epoch 40/100\n",
      "12/12 [==============================] - 11s 912ms/step - loss: 0.0972 - accuracy: 0.9596 - val_loss: 0.9941 - val_accuracy: 0.7345\n",
      "Epoch 41/100\n",
      "12/12 [==============================] - 11s 933ms/step - loss: 0.1013 - accuracy: 0.9610 - val_loss: 0.1393 - val_accuracy: 0.9582\n",
      "Epoch 42/100\n",
      "12/12 [==============================] - 13s 1s/step - loss: 0.1034 - accuracy: 0.9583 - val_loss: 0.4027 - val_accuracy: 0.8788\n",
      "Epoch 43/100\n",
      "12/12 [==============================] - 12s 1s/step - loss: 0.0864 - accuracy: 0.9670 - val_loss: 0.2145 - val_accuracy: 0.9380\n",
      "Epoch 44/100\n",
      "12/12 [==============================] - 12s 992ms/step - loss: 0.0830 - accuracy: 0.9690 - val_loss: 0.3149 - val_accuracy: 0.9076\n",
      "Epoch 45/100\n",
      "12/12 [==============================] - 12s 965ms/step - loss: 0.0706 - accuracy: 0.9724 - val_loss: 0.1514 - val_accuracy: 0.9509\n",
      "Epoch 46/100\n",
      "12/12 [==============================] - 11s 964ms/step - loss: 0.0786 - accuracy: 0.9697 - val_loss: 0.2689 - val_accuracy: 0.9206\n",
      "Epoch 47/100\n",
      "12/12 [==============================] - 11s 907ms/step - loss: 0.0861 - accuracy: 0.9740 - val_loss: 0.3643 - val_accuracy: 0.9134\n",
      "Epoch 48/100\n",
      "12/12 [==============================] - 11s 872ms/step - loss: 0.0653 - accuracy: 0.9717 - val_loss: 0.2122 - val_accuracy: 0.9452\n",
      "Epoch 49/100\n",
      "12/12 [==============================] - 10s 856ms/step - loss: 0.0741 - accuracy: 0.9711 - val_loss: 0.4391 - val_accuracy: 0.8932\n",
      "Epoch 50/100\n",
      "12/12 [==============================] - 10s 865ms/step - loss: 0.0713 - accuracy: 0.9711 - val_loss: 1.5003 - val_accuracy: 0.7201\n",
      "Epoch 51/100\n",
      "12/12 [==============================] - 10s 829ms/step - loss: 0.1006 - accuracy: 0.9650 - val_loss: 0.3248 - val_accuracy: 0.9091\n",
      "Epoch 52/100\n",
      "12/12 [==============================] - 10s 839ms/step - loss: 0.0792 - accuracy: 0.9690 - val_loss: 0.2396 - val_accuracy: 0.9293\n",
      "Epoch 53/100\n",
      "12/12 [==============================] - 10s 848ms/step - loss: 0.0817 - accuracy: 0.9731 - val_loss: 0.1145 - val_accuracy: 0.9639\n",
      "Epoch 54/100\n",
      "12/12 [==============================] - 10s 854ms/step - loss: 0.0790 - accuracy: 0.9657 - val_loss: 0.5898 - val_accuracy: 0.8355\n",
      "Epoch 55/100\n",
      "12/12 [==============================] - 11s 903ms/step - loss: 0.0658 - accuracy: 0.9744 - val_loss: 0.2464 - val_accuracy: 0.9351\n",
      "Epoch 56/100\n",
      "12/12 [==============================] - 12s 1s/step - loss: 0.0668 - accuracy: 0.9717 - val_loss: 0.1765 - val_accuracy: 0.9524\n",
      "Epoch 57/100\n",
      "12/12 [==============================] - 12s 988ms/step - loss: 0.0642 - accuracy: 0.9758 - val_loss: 0.2833 - val_accuracy: 0.9149\n"
     ]
    },
    {
     "name": "stdout",
     "output_type": "stream",
     "text": [
      "Epoch 58/100\n",
      "12/12 [==============================] - 12s 943ms/step - loss: 0.0654 - accuracy: 0.9751 - val_loss: 0.1888 - val_accuracy: 0.9553\n",
      "Epoch 59/100\n",
      "12/12 [==============================] - 12s 934ms/step - loss: 0.0694 - accuracy: 0.9731 - val_loss: 0.1690 - val_accuracy: 0.9625\n",
      "Epoch 60/100\n",
      "12/12 [==============================] - 11s 903ms/step - loss: 0.0935 - accuracy: 0.9664 - val_loss: 0.0959 - val_accuracy: 0.9668\n",
      "Epoch 61/100\n",
      "12/12 [==============================] - 11s 906ms/step - loss: 0.0690 - accuracy: 0.9744 - val_loss: 0.1267 - val_accuracy: 0.9582\n",
      "Epoch 62/100\n",
      "12/12 [==============================] - 11s 915ms/step - loss: 0.0587 - accuracy: 0.9778 - val_loss: 0.1317 - val_accuracy: 0.9582\n",
      "Epoch 63/100\n",
      "12/12 [==============================] - 12s 989ms/step - loss: 0.0694 - accuracy: 0.9744 - val_loss: 0.2712 - val_accuracy: 0.9134\n",
      "Epoch 64/100\n",
      "12/12 [==============================] - 12s 937ms/step - loss: 0.0677 - accuracy: 0.9731 - val_loss: 0.0967 - val_accuracy: 0.9654\n",
      "Epoch 65/100\n",
      "12/12 [==============================] - 11s 920ms/step - loss: 0.0609 - accuracy: 0.9764 - val_loss: 0.1239 - val_accuracy: 0.9711\n",
      "Epoch 66/100\n",
      "12/12 [==============================] - 11s 880ms/step - loss: 0.0622 - accuracy: 0.9738 - val_loss: 0.1668 - val_accuracy: 0.9524\n",
      "Epoch 67/100\n",
      "12/12 [==============================] - 11s 907ms/step - loss: 0.0566 - accuracy: 0.9798 - val_loss: 0.1705 - val_accuracy: 0.9408\n",
      "Epoch 68/100\n",
      "12/12 [==============================] - 11s 875ms/step - loss: 0.0535 - accuracy: 0.9838 - val_loss: 0.2030 - val_accuracy: 0.9481\n",
      "Epoch 69/100\n",
      "12/12 [==============================] - 11s 920ms/step - loss: 0.0552 - accuracy: 0.9798 - val_loss: 0.1345 - val_accuracy: 0.9683\n",
      "Epoch 70/100\n",
      "12/12 [==============================] - 11s 921ms/step - loss: 0.0612 - accuracy: 0.9744 - val_loss: 0.1217 - val_accuracy: 0.9639\n",
      "Epoch 71/100\n",
      "12/12 [==============================] - 11s 888ms/step - loss: 0.0627 - accuracy: 0.9758 - val_loss: 0.1399 - val_accuracy: 0.9538\n",
      "Epoch 72/100\n",
      "12/12 [==============================] - 11s 876ms/step - loss: 0.0561 - accuracy: 0.9764 - val_loss: 0.1973 - val_accuracy: 0.9437\n",
      "Epoch 73/100\n",
      "12/12 [==============================] - 11s 872ms/step - loss: 0.0556 - accuracy: 0.9832 - val_loss: 0.0963 - val_accuracy: 0.9668\n",
      "Epoch 74/100\n",
      "12/12 [==============================] - 11s 887ms/step - loss: 0.0469 - accuracy: 0.9825 - val_loss: 0.5317 - val_accuracy: 0.8759\n",
      "Epoch 75/100\n",
      "12/12 [==============================] - 11s 879ms/step - loss: 0.0434 - accuracy: 0.9845 - val_loss: 0.1896 - val_accuracy: 0.9524\n",
      "Epoch 76/100\n",
      "12/12 [==============================] - 11s 899ms/step - loss: 0.0459 - accuracy: 0.9812 - val_loss: 0.1305 - val_accuracy: 0.9654\n",
      "Epoch 77/100\n",
      "12/12 [==============================] - 11s 870ms/step - loss: 0.0450 - accuracy: 0.9852 - val_loss: 0.2133 - val_accuracy: 0.9452\n",
      "Epoch 78/100\n",
      "12/12 [==============================] - 11s 884ms/step - loss: 0.0469 - accuracy: 0.9832 - val_loss: 1.3372 - val_accuracy: 0.7475\n",
      "Epoch 79/100\n",
      "12/12 [==============================] - 11s 889ms/step - loss: 0.0340 - accuracy: 0.9865 - val_loss: 0.1704 - val_accuracy: 0.9553\n",
      "Epoch 80/100\n",
      "12/12 [==============================] - 11s 891ms/step - loss: 0.0343 - accuracy: 0.9872 - val_loss: 0.1123 - val_accuracy: 0.9697\n",
      "Epoch 81/100\n",
      "12/12 [==============================] - 11s 903ms/step - loss: 0.0488 - accuracy: 0.9831 - val_loss: 0.1688 - val_accuracy: 0.9553\n",
      "Epoch 82/100\n",
      "12/12 [==============================] - 11s 872ms/step - loss: 0.0418 - accuracy: 0.9845 - val_loss: 0.1502 - val_accuracy: 0.9596\n",
      "Epoch 83/100\n",
      "12/12 [==============================] - 10s 858ms/step - loss: 0.0409 - accuracy: 0.9818 - val_loss: 0.2573 - val_accuracy: 0.9365\n",
      "Epoch 84/100\n",
      "12/12 [==============================] - 11s 871ms/step - loss: 0.0493 - accuracy: 0.9811 - val_loss: 0.1234 - val_accuracy: 0.9625\n",
      "Epoch 85/100\n",
      "12/12 [==============================] - 10s 856ms/step - loss: 0.0512 - accuracy: 0.9785 - val_loss: 0.1436 - val_accuracy: 0.9625\n",
      "Epoch 86/100\n",
      "12/12 [==============================] - 10s 861ms/step - loss: 0.0496 - accuracy: 0.9825 - val_loss: 0.1245 - val_accuracy: 0.9625\n",
      "Epoch 87/100\n",
      "12/12 [==============================] - 10s 859ms/step - loss: 0.0637 - accuracy: 0.9771 - val_loss: 0.3066 - val_accuracy: 0.9351\n",
      "Epoch 88/100\n",
      "12/12 [==============================] - 10s 853ms/step - loss: 0.0561 - accuracy: 0.9778 - val_loss: 0.2141 - val_accuracy: 0.9394\n",
      "Epoch 89/100\n",
      "12/12 [==============================] - 10s 860ms/step - loss: 0.0373 - accuracy: 0.9845 - val_loss: 0.1650 - val_accuracy: 0.9524\n",
      "Epoch 90/100\n",
      "12/12 [==============================] - 10s 852ms/step - loss: 0.0325 - accuracy: 0.9879 - val_loss: 0.1437 - val_accuracy: 0.9524\n",
      "Epoch 91/100\n",
      "12/12 [==============================] - 10s 855ms/step - loss: 0.0383 - accuracy: 0.9832 - val_loss: 0.1627 - val_accuracy: 0.9481\n",
      "Epoch 92/100\n",
      "12/12 [==============================] - 10s 844ms/step - loss: 0.0352 - accuracy: 0.9899 - val_loss: 0.1966 - val_accuracy: 0.9495\n",
      "Epoch 93/100\n",
      "12/12 [==============================] - 10s 846ms/step - loss: 0.0217 - accuracy: 0.9933 - val_loss: 0.1327 - val_accuracy: 0.9668\n",
      "Epoch 94/100\n",
      "12/12 [==============================] - 10s 857ms/step - loss: 0.0385 - accuracy: 0.9859 - val_loss: 0.1430 - val_accuracy: 0.9639\n",
      "Epoch 95/100\n",
      "12/12 [==============================] - 11s 878ms/step - loss: 0.0418 - accuracy: 0.9857 - val_loss: 0.1507 - val_accuracy: 0.9553\n",
      "Epoch 96/100\n",
      "12/12 [==============================] - 10s 847ms/step - loss: 0.0419 - accuracy: 0.9865 - val_loss: 0.6960 - val_accuracy: 0.8788\n",
      "Epoch 97/100\n",
      "12/12 [==============================] - 10s 832ms/step - loss: 0.0244 - accuracy: 0.9906 - val_loss: 0.4952 - val_accuracy: 0.9019\n",
      "Epoch 98/100\n",
      "12/12 [==============================] - 10s 863ms/step - loss: 0.0251 - accuracy: 0.9879 - val_loss: 0.1352 - val_accuracy: 0.9553\n",
      "Epoch 99/100\n",
      "12/12 [==============================] - 10s 841ms/step - loss: 0.0286 - accuracy: 0.9906 - val_loss: 0.1737 - val_accuracy: 0.9495\n",
      "Epoch 100/100\n",
      "12/12 [==============================] - 10s 834ms/step - loss: 0.0244 - accuracy: 0.9906 - val_loss: 0.1600 - val_accuracy: 0.9596\n"
     ]
    }
   ],
   "source": [
    "# train the model\n",
    "H = model.fit_generator(aug.flow(trainX, trainY, batch_size=batch_size),\n",
    "                        validation_data=(testX,testY),\n",
    "                        steps_per_epoch=len(trainX) // batch_size,\n",
    "                        epochs=epochs, verbose=1)\n",
    "\n"
   ]
  },
  {
   "cell_type": "code",
   "execution_count": 40,
   "id": "6627a80b",
   "metadata": {},
   "outputs": [
    {
     "name": "stderr",
     "output_type": "stream",
     "text": [
      "WARNING:absl:Found untraced functions such as _jit_compiled_convolution_op, _jit_compiled_convolution_op, _jit_compiled_convolution_op, _jit_compiled_convolution_op, _jit_compiled_convolution_op while saving (showing 5 of 5). These functions will not be directly callable after loading.\n"
     ]
    }
   ],
   "source": [
    "# save the model to disk\n",
    "model.save('gender_detection.model')"
   ]
  },
  {
   "cell_type": "code",
   "execution_count": 41,
   "id": "9f0463cd",
   "metadata": {},
   "outputs": [
    {
     "data": {
      "text/plain": [
       "<matplotlib.legend.Legend at 0x2034581e400>"
      ]
     },
     "execution_count": 41,
     "metadata": {},
     "output_type": "execute_result"
    },
    {
     "data": {
      "image/png": "[encoded data removed]",
      "text/plain": [
       "<Figure size 640x480 with 1 Axes>"
      ]
     },
     "metadata": {},
     "output_type": "display_data"
    }
   ],
   "source": [
    "# plot training/validation loss/accuracy\n",
    "plt.style.use(\"ggplot\")\n",
    "plt.figure()\n",
    "N = epochs\n",
    "plt.plot(np.arange(0,N), H.history[\"loss\"], label=\"train_loss\")\n",
    "plt.plot(np.arange(0,N), H.history[\"val_loss\"], label=\"val_loss\")\n",
    "plt.plot(np.arange(0,N), H.history[\"accuracy\"], label=\"train_acc\")\n",
    "plt.plot(np.arange(0,N), H.history[\"val_accuracy\"], label=\"val_acc\")\n",
    "\n",
    "plt.title(\"Training Loss and Accuracy\")\n",
    "plt.xlabel(\"Epoch #\")\n",
    "plt.ylabel(\"Loss/Accuracy\")\n",
    "plt.legend(loc=\"upper right\")"
   ]
  },
  {
   "cell_type": "code",
   "execution_count": 42,
   "id": "cc64fec5",
   "metadata": {},
   "outputs": [
    {
     "data": {
      "text/plain": [
       "<Figure size 640x480 with 0 Axes>"
      ]
     },
     "metadata": {},
     "output_type": "display_data"
    }
   ],
   "source": [
    "# save plot to disk\n",
    "plt.savefig('plot.png')"
   ]
  },
  {
   "cell_type": "code",
   "execution_count": null,
   "id": "38ea2753",
   "metadata": {},
   "outputs": [],
   "source": []
  }
 ],
 "metadata": {
  "kernelspec": {
   "display_name": "Python 3 (ipykernel)",
   "language": "python",
   "name": "python3"
  },
  "language_info": {
   "codemirror_mode": {
    "name": "ipython",
    "version": 3
   },
   "file_extension": ".py",
   "mimetype": "text/x-python",
   "name": "python",
   "nbconvert_exporter": "python",
   "pygments_lexer": "ipython3",
   "version": "3.8.0"
  }
 },
 "nbformat": 4,
 "nbformat_minor": 5
}
